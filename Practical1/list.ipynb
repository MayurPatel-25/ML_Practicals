{
  "nbformat": 4,
  "nbformat_minor": 0,
  "metadata": {
    "colab": {
      "name": "list.ipynb",
      "provenance": []
    },
    "kernelspec": {
      "name": "python3",
      "display_name": "Python 3"
    }
  },
  "cells": [
    {
      "cell_type": "code",
      "metadata": {
        "id": "7CpiNHge_dPv"
      },
      "source": [
        "#list \r\n",
        "#Author:-Mayur Patel"
      ],
      "execution_count": null,
      "outputs": []
    },
    {
      "cell_type": "code",
      "metadata": {
        "colab": {
          "base_uri": "https://localhost:8080/"
        },
        "id": "bgwr6dLuVUy_",
        "outputId": "bb107617-027a-4e86-9521-d85d9e207d58"
      },
      "source": [
        "#Printing simple list\r\n",
        "x=[\"Mayur\",19,\"CSE\",\"Python\"]\r\n",
        "print(x)\r\n",
        "#negative indexing\r\n",
        "print(x[-1])\r\n",
        "#Printing the length of list\r\n",
        "print(len(x))\r\n",
        "#inserting element with insert keyword\r\n",
        "x.insert(1,\"Patel\")\r\n",
        "print(x)\r\n",
        "#remoing an element\r\n",
        "x.remove(\"CSE\")\r\n",
        "print(x)\r\n",
        "#remoing an element through index\r\n",
        "x.pop(2)\r\n",
        "print(x)"
      ],
      "execution_count": 6,
      "outputs": [
        {
          "output_type": "stream",
          "text": [
            "['Mayur', 19, 'CSE', 'Python']\n",
            "Python\n",
            "4\n",
            "['Mayur', 'Patel', 19, 'CSE', 'Python']\n",
            "['Mayur', 'Patel', 19, 'Python']\n",
            "['Mayur', 'Patel', 'Python']\n"
          ],
          "name": "stdout"
        }
      ]
    },
    {
      "cell_type": "code",
      "metadata": {
        "colab": {
          "base_uri": "https://localhost:8080/"
        },
        "id": "1BZFMl5dVgpf",
        "outputId": "65fb50da-223d-4a76-b7d2-81fb311f2ecf"
      },
      "source": [
        "#adding element at end\r\n",
        "x.append(20)\r\n",
        "print(x)"
      ],
      "execution_count": 7,
      "outputs": [
        {
          "output_type": "stream",
          "text": [
            "['Mayur', 'Patel', 'Python', 20]\n"
          ],
          "name": "stdout"
        }
      ]
    },
    {
      "cell_type": "code",
      "metadata": {
        "colab": {
          "base_uri": "https://localhost:8080/"
        },
        "id": "p-bF6A7YV6kV",
        "outputId": "971435a3-7dc0-429b-d0f1-4d04a643b870"
      },
      "source": [
        "#implementing sort \r\n",
        "y=[10,33,76,54,98,9,64,66]\r\n",
        "y.sort()\r\n",
        "print(y)\r\n",
        "#reversing the elements in list \r\n",
        "x.reverse()\r\n",
        "print(x)\r\n",
        "y.reverse()\r\n",
        "print(y)\r\n",
        "#display the number of the element present in the list \r\n",
        "x.append(20)\r\n",
        "print(x)\r\n",
        "print(x.count(20))\r\n",
        "#clearing the element from the list and making that list empty \r\n",
        "x.clear()\r\n",
        "print(x)\r\n",
        "#deleting the list x \r\n",
        "del(x)"
      ],
      "execution_count": 9,
      "outputs": [
        {
          "output_type": "stream",
          "text": [
            "[9, 10, 33, 54, 64, 66, 76, 98]\n",
            "[]\n",
            "[98, 76, 66, 64, 54, 33, 10, 9]\n",
            "[20]\n",
            "1\n",
            "[]\n"
          ],
          "name": "stdout"
        }
      ]
    }
  ]
}