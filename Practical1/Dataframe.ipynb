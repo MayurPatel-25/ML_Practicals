{
  "nbformat": 4,
  "nbformat_minor": 0,
  "metadata": {
    "kernelspec": {
      "display_name": "Python 3",
      "language": "python",
      "name": "python3"
    },
    "language_info": {
      "codemirror_mode": {
        "name": "ipython",
        "version": 3
      },
      "file_extension": ".py",
      "mimetype": "text/x-python",
      "name": "python",
      "nbconvert_exporter": "python",
      "pygments_lexer": "ipython3",
      "version": "3.8.5"
    },
    "colab": {
      "name": "Dataframe.ipynb",
      "provenance": []
    }
  },
  "cells": [
    {
      "cell_type": "code",
      "metadata": {
        "id": "QOqwSz_93oIL"
      },
      "source": [
        "# dataframe\r\n",
        "#author:Mayur Patel"
      ],
      "execution_count": null,
      "outputs": []
    },
    {
      "cell_type": "code",
      "metadata": {
        "colab": {
          "base_uri": "https://localhost:8080/"
        },
        "id": "AzS0njh73Zni",
        "outputId": "7d479ad5-0b74-47e2-d253-bc8118d8170f"
      },
      "source": [
        "#Creating Dataframe Using List\n",
        "# import pandas as pd\n",
        "import pandas as pd\n",
        " \n",
        "# list of strings\n",
        "lst = ['Mayur', 'Patel', 19, 'CSE']\n",
        "df = pd.DataFrame(lst)\n",
        "print(df)"
      ],
      "execution_count": 1,
      "outputs": [
        {
          "output_type": "stream",
          "text": [
            "       0\n",
            "0  Mayur\n",
            "1  Patel\n",
            "2     19\n",
            "3    CSE\n"
          ],
          "name": "stdout"
        }
      ]
    },
    {
      "cell_type": "code",
      "metadata": {
        "colab": {
          "base_uri": "https://localhost:8080/"
        },
        "id": "_ZJHgOH-3Znr",
        "outputId": "dbc331a8-bf6a-4b8b-a63b-463f0bb14589"
      },
      "source": [
        "data = [['AYZ',15],['BYZ',14],['CYZ',16]]\n",
        "df = pd.DataFrame(data,columns=['Name','Age'],dtype=float)\n",
        "print(df)"
      ],
      "execution_count": 4,
      "outputs": [
        {
          "output_type": "stream",
          "text": [
            "  Name   Age\n",
            "0  AYZ  15.0\n",
            "1  BYZ  14.0\n",
            "2  CYZ  16.0\n"
          ],
          "name": "stdout"
        }
      ]
    },
    {
      "cell_type": "code",
      "metadata": {
        "colab": {
          "base_uri": "https://localhost:8080/"
        },
        "id": "Ud8PZg5d3Znv",
        "outputId": "2d6f007e-97f7-4668-9a58-fddabde52c1b"
      },
      "source": [
        "# Convert the dictionary into DataFrame\n",
        "data = {'Name':['Alexa', 'Hritik', 'Gaurang'],\n",
        "        'Age':[30, 22, 32],\n",
        "        'Address':['Gujarat', 'Goa', 'Kerala']}\n",
        "df = pd.DataFrame(data)\n",
        "print(df)"
      ],
      "execution_count": 6,
      "outputs": [
        {
          "output_type": "stream",
          "text": [
            "      Name  Age  Address\n",
            "0    Alexa   30  Gujarat\n",
            "1   Hritik   22      Goa\n",
            "2  Gaurang   32   Kerala\n"
          ],
          "name": "stdout"
        }
      ]
    },
    {
      "cell_type": "code",
      "metadata": {
        "colab": {
          "base_uri": "https://localhost:8080/"
        },
        "id": "w0EzhuJs3Zny",
        "outputId": "d752f57a-5fc8-42fd-ec9b-a3785744f593"
      },
      "source": [
        "#Indexed Dataframe\n",
        "data = {'Name':['Alexa', 'Hritik', 'Gaurang'],\n",
        "        'Age':[30, 22, 32]}\n",
        "df = pd.DataFrame(data, index=['rank1','rank2','rank3'])\n",
        "print(df)"
      ],
      "execution_count": 7,
      "outputs": [
        {
          "output_type": "stream",
          "text": [
            "          Name  Age\n",
            "rank1    Alexa   30\n",
            "rank2   Hritik   22\n",
            "rank3  Gaurang   32\n"
          ],
          "name": "stdout"
        }
      ]
    },
    {
      "cell_type": "code",
      "metadata": {
        "colab": {
          "base_uri": "https://localhost:8080/"
        },
        "id": "BvBF8aJH3Zn0",
        "outputId": "de7a90a7-da02-4818-daaf-615c1271957e"
      },
      "source": [
        "#Dataframe with list of dictionaries\n",
        "#row indices and column indices\n",
        "import pandas as pd\n",
        "data = [{'a': 1, 'b': 2},{'a': 5, 'b': 10, 'c': 20}]\n",
        "\n",
        "#With two column indices, values same as dictionary keys\n",
        "df1 = pd.DataFrame(data, index=['first', 'second'], columns=['a', 'b','c'])\n",
        "\n",
        "#With two column indices with one index with other name\n",
        "df2 = pd.DataFrame(data, index=['first', 'second'], columns=['a', 'b1','c'])\n",
        "print(df1)\n",
        "print(df2)"
      ],
      "execution_count": 9,
      "outputs": [
        {
          "output_type": "stream",
          "text": [
            "        a   b     c\n",
            "first   1   2   NaN\n",
            "second  5  10  20.0\n",
            "        a  b1     c\n",
            "first   1 NaN   NaN\n",
            "second  5 NaN  20.0\n"
          ],
          "name": "stdout"
        }
      ]
    },
    {
      "cell_type": "code",
      "metadata": {
        "colab": {
          "base_uri": "https://localhost:8080/"
        },
        "id": "cKqgmclh3Zn4",
        "outputId": "7ebf2f50-cddd-42d2-ff82-23533b28fafe"
      },
      "source": [
        "d = {'main' : pd.Series([1, 2, 3], index=['a', 'b', 'c']),\n",
        "   'branched' : pd.Series([1, 2, 3, 4], index=['a', 'b', 'c', 'd'])}\n",
        "\n",
        "df = pd.DataFrame(d)\n",
        "print(df)"
      ],
      "execution_count": 10,
      "outputs": [
        {
          "output_type": "stream",
          "text": [
            "   main  branched\n",
            "a   1.0         1\n",
            "b   2.0         2\n",
            "c   3.0         3\n",
            "d   NaN         4\n"
          ],
          "name": "stdout"
        }
      ]
    },
    {
      "cell_type": "code",
      "metadata": {
        "colab": {
          "base_uri": "https://localhost:8080/"
        },
        "id": "b3dF2xtM3Zn6",
        "outputId": "9506c6a1-4c85-452e-dd4c-cf997db7a010"
      },
      "source": [
        "#Column Selection\n",
        "print(df ['branched'])"
      ],
      "execution_count": 11,
      "outputs": [
        {
          "output_type": "stream",
          "text": [
            "a    1\n",
            "b    2\n",
            "c    3\n",
            "d    4\n",
            "Name: branched, dtype: int64\n"
          ],
          "name": "stdout"
        }
      ]
    },
    {
      "cell_type": "code",
      "metadata": {
        "colab": {
          "base_uri": "https://localhost:8080/"
        },
        "id": "Au3MwT1X3Zn8",
        "outputId": "194974b8-94a4-4379-fc08-6e6ab67202a9"
      },
      "source": [
        "# Adding a new column to an existing DataFrame object with column label by passing new series\n",
        "df['branched2']=pd.Series([10,20],index=['a','b'])\n",
        "print(df)"
      ],
      "execution_count": 16,
      "outputs": [
        {
          "output_type": "stream",
          "text": [
            "   main  branched  branched2\n",
            "a   1.0         1       10.0\n",
            "b   2.0         2       20.0\n",
            "c   3.0         3        NaN\n",
            "d   NaN         4        NaN\n"
          ],
          "name": "stdout"
        }
      ]
    },
    {
      "cell_type": "code",
      "metadata": {
        "colab": {
          "base_uri": "https://localhost:8080/"
        },
        "id": "X3gldhmx3Zn9",
        "outputId": "439a6404-4c75-471a-dc8c-0cc467dd7f17"
      },
      "source": [
        "#Adding a new column using the existing columns in DataFrame\n",
        "df['sum']=df['main']+df['branched2']\n",
        "print(df)"
      ],
      "execution_count": 17,
      "outputs": [
        {
          "output_type": "stream",
          "text": [
            "   main  branched  branched2   sum\n",
            "a   1.0         1       10.0  11.0\n",
            "b   2.0         2       20.0  22.0\n",
            "c   3.0         3        NaN   NaN\n",
            "d   NaN         4        NaN   NaN\n"
          ],
          "name": "stdout"
        }
      ]
    },
    {
      "cell_type": "code",
      "metadata": {
        "colab": {
          "base_uri": "https://localhost:8080/"
        },
        "id": "zuFLpOTn3Zn_",
        "outputId": "bfe52ed1-cdf8-4b86-ee02-2331d62b2f29"
      },
      "source": [
        "#Column Deletion\n",
        "del df['branched2']\n",
        "print(df)"
      ],
      "execution_count": 18,
      "outputs": [
        {
          "output_type": "stream",
          "text": [
            "   main  branched   sum\n",
            "a   1.0         1  11.0\n",
            "b   2.0         2  22.0\n",
            "c   3.0         3   NaN\n",
            "d   NaN         4   NaN\n"
          ],
          "name": "stdout"
        }
      ]
    },
    {
      "cell_type": "code",
      "metadata": {
        "colab": {
          "base_uri": "https://localhost:8080/"
        },
        "id": "4RZaJXyw3ZoC",
        "outputId": "661d34e1-67ab-4fb1-efb7-03ddb273686b"
      },
      "source": [
        "#Row Selectionby iloc method\n",
        "d = {'main' : pd.Series([1, 2, 3], index=['a', 'b', 'c']),\n",
        "   'branched' : pd.Series([1, 2, 3, 4], index=['a', 'b', 'c', 'd'])}\n",
        "\n",
        "df = pd.DataFrame(d)\n",
        "print(df.iloc[2])"
      ],
      "execution_count": 19,
      "outputs": [
        {
          "output_type": "stream",
          "text": [
            "main        3.0\n",
            "branched    3.0\n",
            "Name: c, dtype: float64\n"
          ],
          "name": "stdout"
        }
      ]
    },
    {
      "cell_type": "code",
      "metadata": {
        "colab": {
          "base_uri": "https://localhost:8080/"
        },
        "id": "3k2U2WHg3ZoE",
        "outputId": "d5e3439a-1c90-4791-81f7-f92c932b782c"
      },
      "source": [
        "#Addition of Rows\n",
        "df = pd.DataFrame([[1, 2], [3, 4]], columns = ['a','b'])\n",
        "df2 = pd.DataFrame([[5, 6], [7, 8]], columns = ['a','b'])\n",
        "\n",
        "df = df.append(df2)\n",
        "print(df)"
      ],
      "execution_count": 20,
      "outputs": [
        {
          "output_type": "stream",
          "text": [
            "   a  b\n",
            "0  1  2\n",
            "1  3  4\n",
            "0  5  6\n",
            "1  7  8\n"
          ],
          "name": "stdout"
        }
      ]
    },
    {
      "cell_type": "code",
      "metadata": {
        "colab": {
          "base_uri": "https://localhost:8080/"
        },
        "id": "8mj7umXw3ZoF",
        "outputId": "10cbf00c-ad54-4fca-de3a-442687a90027"
      },
      "source": [
        "#Deletion of Rows\n",
        "\n",
        "# Drop rows with label 0\n",
        "df = df.drop(0)\n",
        "\n",
        "print(df)"
      ],
      "execution_count": 21,
      "outputs": [
        {
          "output_type": "stream",
          "text": [
            "   a  b\n",
            "1  3  4\n",
            "1  7  8\n"
          ],
          "name": "stdout"
        }
      ]
    },
    {
      "cell_type": "code",
      "metadata": {
        "id": "SZ66oOgl3ZoH"
      },
      "source": [
        ""
      ],
      "execution_count": null,
      "outputs": []
    }
  ]
}