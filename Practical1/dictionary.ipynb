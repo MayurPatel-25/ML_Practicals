{
  "nbformat": 4,
  "nbformat_minor": 0,
  "metadata": {
    "colab": {
      "name": "dictionary.ipynb",
      "provenance": [],
      "collapsed_sections": []
    },
    "kernelspec": {
      "name": "python3",
      "display_name": "Python 3"
    }
  },
  "cells": [
    {
      "cell_type": "code",
      "metadata": {
        "id": "5a4vhDD29IzN"
      },
      "source": [
        "#dictonary \r\n",
        "#Author:-Mayur Patel"
      ],
      "execution_count": null,
      "outputs": []
    },
    {
      "cell_type": "code",
      "metadata": {
        "colab": {
          "base_uri": "https://localhost:8080/"
        },
        "id": "5sPa64YWWwXZ",
        "outputId": "103cc8cc-e24b-4dab-8010-5b5b8ee25376"
      },
      "source": [
        "#dictionary \r\n",
        "a={\"name\":\"Mayur\",\"age\":19,\"branch\":\"CSE\"}\r\n",
        "print(a)\r\n",
        "print(\"-------\")\r\n",
        "#printing only keys\r\n",
        "print(a.keys())\r\n",
        "print(\"-------\")\r\n",
        "#printing only values\r\n",
        "print(a.values())\r\n",
        "print(\"-------\")\r\n",
        "#printing only whole key value term\r\n",
        "print(a.items())\r\n",
        "print(\"-------\")\r\n",
        "#accessing an element by its key\r\n",
        "print(a.get(\"name\"))\r\n",
        "#accessing an elemnet by the key which is not present\r\n",
        "print(a.get(\"nam\"))"
      ],
      "execution_count": 13,
      "outputs": [
        {
          "output_type": "stream",
          "text": [
            "{'name': 'Mayur', 'age': 19, 'branch': 'CSE'}\n",
            "-------\n",
            "dict_keys(['name', 'age', 'branch'])\n",
            "-------\n",
            "dict_values(['Mayur', 19, 'CSE'])\n",
            "-------\n",
            "dict_items([('name', 'Mayur'), ('age', 19), ('branch', 'CSE')])\n",
            "-------\n",
            "Mayur\n",
            "None\n"
          ],
          "name": "stdout"
        }
      ]
    },
    {
      "cell_type": "code",
      "metadata": {
        "colab": {
          "base_uri": "https://localhost:8080/"
        },
        "id": "YvYUMqIhXouH",
        "outputId": "a24a2260-b003-4ca6-8e61-2b44b5e5e442"
      },
      "source": [
        "#removing an element\r\n",
        "print(a.popitem())\r\n",
        "print(a)\r\n",
        "#inserting an item \r\n",
        "b={\"branch\":\"CSE\"}\r\n",
        "a.update(b)\r\n",
        "print(a)"
      ],
      "execution_count": 14,
      "outputs": [
        {
          "output_type": "stream",
          "text": [
            "('branch', 'CSE')\n",
            "{'name': 'Mayur', 'age': 19}\n",
            "{'name': 'Mayur', 'age': 19, 'branch': 'CSE'}\n"
          ],
          "name": "stdout"
        }
      ]
    },
    {
      "cell_type": "code",
      "metadata": {
        "colab": {
          "base_uri": "https://localhost:8080/"
        },
        "id": "g8V1kI3vYbdn",
        "outputId": "d7996ea7-3196-4d48-dabc-09e3d67910d0"
      },
      "source": [
        "#Updating a value of a dictionary  \r\n",
        "a.update({\"name\":\"Mayue P\"})\r\n",
        "print(a)"
      ],
      "execution_count": 15,
      "outputs": [
        {
          "output_type": "stream",
          "text": [
            "{'name': 'Mayue P', 'age': 19, 'branch': 'CSE'}\n"
          ],
          "name": "stdout"
        }
      ]
    },
    {
      "cell_type": "code",
      "metadata": {
        "colab": {
          "base_uri": "https://localhost:8080/"
        },
        "id": "4ezIN_JrW6yV",
        "outputId": "48c9f9ee-66eb-4086-9530-922d8d52e19f"
      },
      "source": [
        "#using loop for creating dictionary\r\n",
        "{x:x+5 for x in (2,4,6,8)}"
      ],
      "execution_count": 2,
      "outputs": [
        {
          "output_type": "execute_result",
          "data": {
            "text/plain": [
              "{2: 7, 4: 9, 6: 11, 8: 13}"
            ]
          },
          "metadata": {
            "tags": []
          },
          "execution_count": 2
        }
      ]
    }
  ]
}